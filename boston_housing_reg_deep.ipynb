{
 "cells": [
  {
   "cell_type": "markdown",
   "metadata": {},
   "source": [
    "# Boston Housing Example\n",
    "\n",
    "In this example we build a regression deep neural network on the boston housing data."
   ]
  },
  {
   "cell_type": "code",
   "execution_count": 51,
   "metadata": {},
   "outputs": [],
   "source": [
    "import numpy as np\n",
    "import datetime\n",
    "import tensorflow as tf\n",
    "from tensorflow.keras.datasets import boston_housing\n",
    "from tensorflow.keras.models import Sequential\n",
    "from tensorflow.keras.layers import Dense, Dropout, BatchNormalization \n",
    "import matplotlib.pyplot as plt\n"
   ]
  },
  {
   "cell_type": "code",
   "execution_count": 52,
   "metadata": {},
   "outputs": [
    {
     "name": "stdout",
     "output_type": "stream",
     "text": [
      "The tensorboard extension is already loaded. To reload it, use:\n",
      "  %reload_ext tensorboard\n"
     ]
    }
   ],
   "source": [
    "%load_ext tensorboard"
   ]
  },
  {
   "cell_type": "code",
   "execution_count": 53,
   "metadata": {},
   "outputs": [],
   "source": [
    "# Supporting functions\n",
    "def plot_history_net(history):\n",
    "    \"\"\"Plot the history of the neural network with accuracy, loss, val_loss, val_accuracy\"\"\"\n",
    "\n",
    "    feature_list = list(history.history.keys())\n",
    "    epoch_range = range(1, len(history.history[feature_list[0]])+1)\n",
    "\n",
    "    fig, ax = plt.subplots(ncols=len(feature_list), figsize=(25,5))\n",
    "\n",
    "    for i in range(0, len(feature_list)):\n",
    "        ax[i].plot(epoch_range, history.history[feature_list[i]], color=\"navy\")\n",
    "        ax[i].set_title(feature_list[i])\n",
    "\n",
    "    plt.show()"
   ]
  },
  {
   "cell_type": "code",
   "execution_count": 54,
   "metadata": {},
   "outputs": [],
   "source": [
    "(X_train, y_train), (X_valid, y_valid) = boston_housing.load_data()"
   ]
  },
  {
   "cell_type": "code",
   "execution_count": 55,
   "metadata": {},
   "outputs": [],
   "source": [
    "model = Sequential()\n",
    "\n",
    "model.add(Dense(32, input_dim=13, activation=\"relu\"))\n",
    "model.add(BatchNormalization())\n",
    "\n",
    "model.add(Dense(16, activation=\"relu\"))\n",
    "model.add(BatchNormalization())\n",
    "model.add(Dropout(0.2))\n",
    "\n",
    "model.add(Dense(1, activation=\"linear\"))"
   ]
  },
  {
   "cell_type": "code",
   "execution_count": 56,
   "metadata": {},
   "outputs": [],
   "source": [
    "model.compile(loss=\"mean_squared_error\", optimizer=\"adam\")"
   ]
  },
  {
   "cell_type": "code",
   "execution_count": 61,
   "metadata": {},
   "outputs": [
    {
     "name": "stdout",
     "output_type": "stream",
     "text": [
      "Epoch 1/32\n",
      "51/51 [==============================] - 0s 3ms/step - loss: 46.5726 - val_loss: 31.3081\n",
      "Epoch 2/32\n",
      "51/51 [==============================] - 0s 1ms/step - loss: 46.0803 - val_loss: 28.0686\n",
      "Epoch 3/32\n",
      "51/51 [==============================] - 0s 1ms/step - loss: 47.0053 - val_loss: 32.6642\n",
      "Epoch 4/32\n",
      "51/51 [==============================] - 0s 2ms/step - loss: 44.5509 - val_loss: 26.1669\n",
      "Epoch 5/32\n",
      "51/51 [==============================] - 0s 2ms/step - loss: 43.0252 - val_loss: 26.4339\n",
      "Epoch 6/32\n",
      "51/51 [==============================] - 0s 2ms/step - loss: 39.7936 - val_loss: 27.0202\n",
      "Epoch 7/32\n",
      "51/51 [==============================] - 0s 2ms/step - loss: 46.0435 - val_loss: 36.3811\n",
      "Epoch 8/32\n",
      "51/51 [==============================] - 0s 2ms/step - loss: 42.0780 - val_loss: 49.9480\n",
      "Epoch 9/32\n",
      "51/51 [==============================] - 0s 2ms/step - loss: 43.3507 - val_loss: 23.9646\n",
      "Epoch 10/32\n",
      "51/51 [==============================] - 0s 3ms/step - loss: 40.9299 - val_loss: 29.2412\n",
      "Epoch 11/32\n",
      "51/51 [==============================] - 0s 2ms/step - loss: 43.5303 - val_loss: 28.4398\n",
      "Epoch 12/32\n",
      "51/51 [==============================] - 0s 2ms/step - loss: 42.0861 - val_loss: 37.4456\n",
      "Epoch 13/32\n",
      "51/51 [==============================] - 0s 1ms/step - loss: 39.8155 - val_loss: 64.9304\n",
      "Epoch 14/32\n",
      "51/51 [==============================] - 0s 2ms/step - loss: 37.3929 - val_loss: 50.2248\n",
      "Epoch 15/32\n",
      "51/51 [==============================] - 0s 2ms/step - loss: 43.6679 - val_loss: 30.8731\n",
      "Epoch 16/32\n",
      "51/51 [==============================] - 0s 2ms/step - loss: 37.9361 - val_loss: 28.5206\n",
      "Epoch 17/32\n",
      "51/51 [==============================] - 0s 1ms/step - loss: 45.0387 - val_loss: 33.8305\n",
      "Epoch 18/32\n",
      "51/51 [==============================] - 0s 2ms/step - loss: 39.0860 - val_loss: 21.2812\n",
      "Epoch 19/32\n",
      "51/51 [==============================] - 0s 2ms/step - loss: 44.6186 - val_loss: 24.0091\n",
      "Epoch 20/32\n",
      "51/51 [==============================] - 0s 2ms/step - loss: 38.6477 - val_loss: 20.5547\n",
      "Epoch 21/32\n",
      "51/51 [==============================] - 0s 2ms/step - loss: 43.3617 - val_loss: 21.0111\n",
      "Epoch 22/32\n",
      "51/51 [==============================] - 0s 2ms/step - loss: 41.0606 - val_loss: 44.9842\n",
      "Epoch 23/32\n",
      "51/51 [==============================] - 0s 2ms/step - loss: 32.7689 - val_loss: 80.9307\n",
      "Epoch 24/32\n",
      "51/51 [==============================] - 0s 2ms/step - loss: 37.8670 - val_loss: 29.7270\n",
      "Epoch 25/32\n",
      "51/51 [==============================] - 0s 1ms/step - loss: 44.5322 - val_loss: 22.3909\n",
      "Epoch 26/32\n",
      "51/51 [==============================] - 0s 1ms/step - loss: 37.5150 - val_loss: 24.5403\n",
      "Epoch 27/32\n",
      "51/51 [==============================] - 0s 1ms/step - loss: 38.8122 - val_loss: 38.6308\n",
      "Epoch 28/32\n",
      "51/51 [==============================] - 0s 1ms/step - loss: 41.5562 - val_loss: 20.6949\n",
      "Epoch 29/32\n",
      "51/51 [==============================] - 0s 2ms/step - loss: 39.8413 - val_loss: 22.5188\n",
      "Epoch 30/32\n",
      "51/51 [==============================] - 0s 2ms/step - loss: 37.6635 - val_loss: 22.2240\n",
      "Epoch 31/32\n",
      "51/51 [==============================] - 0s 1ms/step - loss: 34.4125 - val_loss: 23.8549\n",
      "Epoch 32/32\n",
      "51/51 [==============================] - 0s 1ms/step - loss: 35.3660 - val_loss: 22.0327\n"
     ]
    }
   ],
   "source": [
    "log_dir = \"logs/fit/\" + datetime.datetime.now().strftime(\"%Y%m%d-%H%M%S\")\n",
    "tensorboard_callback = tf.keras.callbacks.TensorBoard(log_dir=log_dir, histogram_freq=1)\n",
    "\n",
    "history = model.fit(\n",
    "    X_train, y_train,\n",
    "    batch_size=8, epochs=32, verbose=1,\n",
    "    validation_data=(X_valid, y_valid),\n",
    "    callbacks=[tensorboard_callback],\n",
    ")"
   ]
  },
  {
   "cell_type": "code",
   "execution_count": 58,
   "metadata": {},
   "outputs": [
    {
     "data": {
      "image/png": "[encoded data removed]",
      "text/plain": [
       "<Figure size 1800x360 with 2 Axes>"
      ]
     },
     "metadata": {
      "needs_background": "light"
     },
     "output_type": "display_data"
    }
   ],
   "source": [
    "plot_history_net(history=history)"
   ]
  },
  {
   "cell_type": "code",
   "execution_count": 59,
   "metadata": {},
   "outputs": [
    {
     "data": {
      "text/plain": [
       "array([[18.942265]], dtype=float32)"
      ]
     },
     "execution_count": 59,
     "metadata": {},
     "output_type": "execute_result"
    }
   ],
   "source": [
    "model.predict(np.reshape(X_valid[42], [1, 13]))"
   ]
  },
  {
   "cell_type": "code",
   "execution_count": 85,
   "metadata": {},
   "outputs": [
    {
     "data": {
      "text/html": [
       "\n",
       "      <iframe id=\"tensorboard-frame-7ff22c7fb6aa9604\" width=\"100%\" height=\"800\" frameborder=\"0\">\n",
       "      </iframe>\n",
       "      <script>\n",
       "        (function() {\n",
       "          const frame = document.getElementById(\"tensorboard-frame-7ff22c7fb6aa9604\");\n",
       "          const url = new URL(\"/\", window.location);\n",
       "          const port = 6006;\n",
       "          if (port) {\n",
       "            url.port = port;\n",
       "          }\n",
       "          frame.src = url;\n",
       "        })();\n",
       "      </script>\n",
       "    "
      ],
      "text/plain": [
       "<IPython.core.display.HTML object>"
      ]
     },
     "metadata": {},
     "output_type": "display_data"
    },
    {
     "name": "stderr",
     "output_type": "stream",
     "text": [
      "'kill' is not recognized as an internal or external command,\n",
      "operable program or batch file.\n"
     ]
    }
   ],
   "source": [
    "%tensorboard --logdir logs/fit --port 6006"
   ]
  },
  {
   "cell_type": "code",
   "execution_count": null,
   "metadata": {},
   "outputs": [],
   "source": []
  }
 ],
 "metadata": {
  "interpreter": {
   "hash": "c2c0e7ee56433be14f0d287b3b2db6ec8e70adcb949995f614bd560673f689bf"
  },
  "kernelspec": {
   "display_name": "Python 3.9.7 64-bit",
   "name": "python3"
  },
  "language_info": {
   "codemirror_mode": {
    "name": "ipython",
    "version": 3
   },
   "file_extension": ".py",
   "mimetype": "text/x-python",
   "name": "python",
   "nbconvert_exporter": "python",
   "pygments_lexer": "ipython3",
   "version": "3.9.7"
  },
  "orig_nbformat": 4
 },
 "nbformat": 4,
 "nbformat_minor": 2
}
