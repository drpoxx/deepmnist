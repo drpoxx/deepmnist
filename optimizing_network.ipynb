{
 "cells": [
  {
   "cell_type": "markdown",
   "metadata": {},
   "source": [
    "In this tutorial we will optimize the neural network capability and optimize the shallow network we have build in the previous module deep_mnist_explore.jpynb."
   ]
  },
  {
   "cell_type": "code",
   "execution_count": 1,
   "metadata": {},
   "outputs": [],
   "source": [
    "import numpy as np\n",
    "import matplotlib.pyplot as plt\n",
    "\n",
    "from tensorflow.keras import Sequential\n",
    "from tensorflow.keras.layers import Dense, Activation\n",
    "from tensorflow.keras.initializers import Zeros, RandomNormal\n",
    "from tensorflow.keras.initializers import glorot_normal, glorot_uniform"
   ]
  },
  {
   "cell_type": "markdown",
   "metadata": {},
   "source": [
    "We first select the inputs of 784 pixels and the number of neurons in the dense layer of 256. We also initilize b and w of our neural network function. Large w and b values tend to correspond to larger z which means that our neurons are saturated. On the other hand large parameter values would imply that the network has a strong opinion towards how x relates to y before we have trained the model. We select the paramter of 0 for our b's and we select a random number near 0 for our w's. The two parameter b and w should not be the same to avoid treating the x values the same. "
   ]
  },
  {
   "cell_type": "code",
   "execution_count": 17,
   "metadata": {},
   "outputs": [],
   "source": [
    "n_input = 784\n",
    "n_dense = 256\n",
    "\n",
    "b_init = Zeros()\n",
    "w_init = RandomNormal(stddev=4.0)"
   ]
  },
  {
   "cell_type": "code",
   "execution_count": 18,
   "metadata": {},
   "outputs": [],
   "source": [
    "model = Sequential()\n",
    "model.add(\n",
    "    Dense(\n",
    "        n_dense,\n",
    "        input_dim=n_input,\n",
    "        kernel_initializer=w_init,\n",
    "        bias_initializer=b_init\n",
    "        )\n",
    "    )\n",
    "model.add(Activation(\"sigmoid\"))"
   ]
  },
  {
   "cell_type": "code",
   "execution_count": 19,
   "metadata": {},
   "outputs": [],
   "source": [
    "x = np.random.random((1, n_input))"
   ]
  },
  {
   "cell_type": "code",
   "execution_count": 20,
   "metadata": {},
   "outputs": [],
   "source": [
    "a = model.predict(x)"
   ]
  },
  {
   "cell_type": "code",
   "execution_count": 21,
   "metadata": {},
   "outputs": [
    {
     "data": {
      "image/png": "[encoded data removed]",
      "text/plain": [
       "<Figure size 432x288 with 1 Axes>"
      ]
     },
     "metadata": {
      "needs_background": "light"
     },
     "output_type": "display_data"
    }
   ],
   "source": [
    "_ = plt.hist(np.transpose(a))"
   ]
  },
  {
   "cell_type": "markdown",
   "metadata": {},
   "source": [
    "This activation is rather undersired since they are pressed up against the extremes of the range. This means that when encouraging a sample from a normal distribution as in our case via the Random function we end up encouraging large values for \"z\" which is ultimately undesireable. This in contrast means that a vast majority of neurons in the layer are saturated and that the neurons have strong opininions how x would influence y before training on data. "
   ]
  },
  {
   "cell_type": "markdown",
   "metadata": {},
   "source": [
    "## Glorot/ Xavier Distributions to overcome deep feedforward neural network training difficulty\n",
    "\n",
    "To avoid any warnings please restart the notebook and just re-run this part."
   ]
  },
  {
   "cell_type": "code",
   "execution_count": 29,
   "metadata": {},
   "outputs": [],
   "source": [
    "n_input = 784\n",
    "n_dense = 256\n",
    "\n",
    "b_init = Zeros()\n",
    "w_init = glorot_normal()"
   ]
  },
  {
   "cell_type": "code",
   "execution_count": 27,
   "metadata": {},
   "outputs": [],
   "source": [
    "model2 = Sequential()\n",
    "model2.add(\n",
    "    Dense(\n",
    "        n_dense,\n",
    "        input_dim=n_input,\n",
    "        kernel_initializer=w_init,\n",
    "        bias_initializer=b_init\n",
    "        )\n",
    "    )\n",
    "model2.add(Activation(\"sigmoid\"))"
   ]
  },
  {
   "cell_type": "code",
   "execution_count": 28,
   "metadata": {},
   "outputs": [
    {
     "name": "stdout",
     "output_type": "stream",
     "text": [
      "WARNING:tensorflow:6 out of the last 6 calls to <function Model.make_predict_function.<locals>.predict_function at 0x000002247E9F4CA0> triggered tf.function retracing. Tracing is expensive and the excessive number of tracings could be due to (1) creating @tf.function repeatedly in a loop, (2) passing tensors with different shapes, (3) passing Python objects instead of tensors. For (1), please define your @tf.function outside of the loop. For (2), @tf.function has experimental_relax_shapes=True option that relaxes argument shapes that can avoid unnecessary retracing. For (3), please refer to https://www.tensorflow.org/guide/function#controlling_retracing and https://www.tensorflow.org/api_docs/python/tf/function for  more details.\n"
     ]
    },
    {
     "data": {
      "image/png": "[encoded data removed]",
      "text/plain": [
       "<Figure size 432x288 with 1 Axes>"
      ]
     },
     "metadata": {
      "needs_background": "light"
     },
     "output_type": "display_data"
    }
   ],
   "source": [
    "x = np.random.random((1, n_input))\n",
    "a = model2.predict(x)\n",
    "_ = plt.hist(np.transpose(a))"
   ]
  },
  {
   "cell_type": "code",
   "execution_count": null,
   "metadata": {},
   "outputs": [],
   "source": []
  }
 ],
 "metadata": {
  "interpreter": {
   "hash": "c2c0e7ee56433be14f0d287b3b2db6ec8e70adcb949995f614bd560673f689bf"
  },
  "kernelspec": {
   "display_name": "Python 3.9.7 64-bit",
   "name": "python3"
  },
  "language_info": {
   "codemirror_mode": {
    "name": "ipython",
    "version": 3
   },
   "file_extension": ".py",
   "mimetype": "text/x-python",
   "name": "python",
   "nbconvert_exporter": "python",
   "pygments_lexer": "ipython3",
   "version": "3.9.7"
  },
  "orig_nbformat": 4
 },
 "nbformat": 4,
 "nbformat_minor": 2
}
